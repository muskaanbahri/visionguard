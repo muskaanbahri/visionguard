{
 "cells": [
  {
   "cell_type": "markdown",
   "metadata": {
    "id": "ZsKYkocGm0La"
   },
   "source": [
    "# **Importing the required libraries**"
   ]
  },
  {
   "cell_type": "code",
   "execution_count": null,
   "metadata": {
    "execution": {
     "iopub.execute_input": "2022-09-29T09:02:48.263017Z",
     "iopub.status.busy": "2022-09-29T09:02:48.262073Z",
     "iopub.status.idle": "2022-09-29T09:02:58.373472Z",
     "shell.execute_reply": "2022-09-29T09:02:58.372262Z",
     "shell.execute_reply.started": "2022-09-29T09:02:48.262918Z"
    },
    "id": "KN35l9ZJ3aTh",
    "trusted": true
   },
   "outputs": [
    {
     "ename": "OSError",
     "evalue": "'seaborn' is not a valid package style, path of style file, URL of style file, or library style name (library styles are listed in `style.available`)",
     "output_type": "error",
     "traceback": [
      "\u001b[1;31m---------------------------------------------------------------------------\u001b[0m",
      "\u001b[1;31mFileNotFoundError\u001b[0m                         Traceback (most recent call last)",
      "File \u001b[1;32mc:\\Users\\Muskaan Bahri\\miniconda3\\envs\\myenv\\lib\\site-packages\\matplotlib\\style\\core.py:137\u001b[0m, in \u001b[0;36muse\u001b[1;34m(style)\u001b[0m\n\u001b[0;32m    136\u001b[0m \u001b[38;5;28;01mtry\u001b[39;00m:\n\u001b[1;32m--> 137\u001b[0m     style \u001b[38;5;241m=\u001b[39m \u001b[43m_rc_params_in_file\u001b[49m\u001b[43m(\u001b[49m\u001b[43mstyle\u001b[49m\u001b[43m)\u001b[49m\n\u001b[0;32m    138\u001b[0m \u001b[38;5;28;01mexcept\u001b[39;00m \u001b[38;5;167;01mOSError\u001b[39;00m \u001b[38;5;28;01mas\u001b[39;00m err:\n",
      "File \u001b[1;32mc:\\Users\\Muskaan Bahri\\miniconda3\\envs\\myenv\\lib\\site-packages\\matplotlib\\__init__.py:873\u001b[0m, in \u001b[0;36m_rc_params_in_file\u001b[1;34m(fname, transform, fail_on_error)\u001b[0m\n\u001b[0;32m    872\u001b[0m rc_temp \u001b[38;5;241m=\u001b[39m {}\n\u001b[1;32m--> 873\u001b[0m \u001b[38;5;28;01mwith\u001b[39;00m _open_file_or_url(fname) \u001b[38;5;28;01mas\u001b[39;00m fd:\n\u001b[0;32m    874\u001b[0m     \u001b[38;5;28;01mtry\u001b[39;00m:\n",
      "File \u001b[1;32mc:\\Users\\Muskaan Bahri\\miniconda3\\envs\\myenv\\lib\\contextlib.py:119\u001b[0m, in \u001b[0;36m_GeneratorContextManager.__enter__\u001b[1;34m(self)\u001b[0m\n\u001b[0;32m    118\u001b[0m \u001b[38;5;28;01mtry\u001b[39;00m:\n\u001b[1;32m--> 119\u001b[0m     \u001b[38;5;28;01mreturn\u001b[39;00m \u001b[38;5;28;43mnext\u001b[39;49m\u001b[43m(\u001b[49m\u001b[38;5;28;43mself\u001b[39;49m\u001b[38;5;241;43m.\u001b[39;49m\u001b[43mgen\u001b[49m\u001b[43m)\u001b[49m\n\u001b[0;32m    120\u001b[0m \u001b[38;5;28;01mexcept\u001b[39;00m \u001b[38;5;167;01mStopIteration\u001b[39;00m:\n",
      "File \u001b[1;32mc:\\Users\\Muskaan Bahri\\miniconda3\\envs\\myenv\\lib\\site-packages\\matplotlib\\__init__.py:850\u001b[0m, in \u001b[0;36m_open_file_or_url\u001b[1;34m(fname)\u001b[0m\n\u001b[0;32m    849\u001b[0m fname \u001b[38;5;241m=\u001b[39m os\u001b[38;5;241m.\u001b[39mpath\u001b[38;5;241m.\u001b[39mexpanduser(fname)\n\u001b[1;32m--> 850\u001b[0m \u001b[38;5;28;01mwith\u001b[39;00m \u001b[38;5;28;43mopen\u001b[39;49m\u001b[43m(\u001b[49m\u001b[43mfname\u001b[49m\u001b[43m,\u001b[49m\u001b[43m \u001b[49m\u001b[43mencoding\u001b[49m\u001b[38;5;241;43m=\u001b[39;49m\u001b[38;5;124;43m'\u001b[39;49m\u001b[38;5;124;43mutf-8\u001b[39;49m\u001b[38;5;124;43m'\u001b[39;49m\u001b[43m)\u001b[49m \u001b[38;5;28;01mas\u001b[39;00m f:\n\u001b[0;32m    851\u001b[0m     \u001b[38;5;28;01myield\u001b[39;00m f\n",
      "\u001b[1;31mFileNotFoundError\u001b[0m: [Errno 2] No such file or directory: 'seaborn'",
      "\nThe above exception was the direct cause of the following exception:\n",
      "\u001b[1;31mOSError\u001b[0m                                   Traceback (most recent call last)",
      "Cell \u001b[1;32mIn[1], line 12\u001b[0m\n\u001b[0;32m     10\u001b[0m \u001b[38;5;28;01mfrom\u001b[39;00m\u001b[38;5;250m \u001b[39m\u001b[38;5;21;01mcollections\u001b[39;00m\u001b[38;5;250m \u001b[39m\u001b[38;5;28;01mimport\u001b[39;00m deque\n\u001b[0;32m     11\u001b[0m \u001b[38;5;28;01mimport\u001b[39;00m\u001b[38;5;250m \u001b[39m\u001b[38;5;21;01mmatplotlib\u001b[39;00m\u001b[38;5;21;01m.\u001b[39;00m\u001b[38;5;21;01mpyplot\u001b[39;00m\u001b[38;5;250m \u001b[39m\u001b[38;5;28;01mas\u001b[39;00m\u001b[38;5;250m \u001b[39m\u001b[38;5;21;01mplt\u001b[39;00m\n\u001b[1;32m---> 12\u001b[0m \u001b[43mplt\u001b[49m\u001b[38;5;241;43m.\u001b[39;49m\u001b[43mstyle\u001b[49m\u001b[38;5;241;43m.\u001b[39;49m\u001b[43muse\u001b[49m\u001b[43m(\u001b[49m\u001b[38;5;124;43m\"\u001b[39;49m\u001b[38;5;124;43mseaborn\u001b[39;49m\u001b[38;5;124;43m\"\u001b[39;49m\u001b[43m)\u001b[49m\n\u001b[0;32m     14\u001b[0m get_ipython()\u001b[38;5;241m.\u001b[39mrun_line_magic(\u001b[38;5;124m'\u001b[39m\u001b[38;5;124mmatplotlib\u001b[39m\u001b[38;5;124m'\u001b[39m, \u001b[38;5;124m'\u001b[39m\u001b[38;5;124minline\u001b[39m\u001b[38;5;124m'\u001b[39m)\n\u001b[0;32m     16\u001b[0m \u001b[38;5;28;01mfrom\u001b[39;00m\u001b[38;5;250m \u001b[39m\u001b[38;5;21;01msklearn\u001b[39;00m\u001b[38;5;21;01m.\u001b[39;00m\u001b[38;5;21;01mmodel_selection\u001b[39;00m\u001b[38;5;250m \u001b[39m\u001b[38;5;28;01mimport\u001b[39;00m train_test_split\n",
      "File \u001b[1;32mc:\\Users\\Muskaan Bahri\\miniconda3\\envs\\myenv\\lib\\site-packages\\matplotlib\\style\\core.py:139\u001b[0m, in \u001b[0;36muse\u001b[1;34m(style)\u001b[0m\n\u001b[0;32m    137\u001b[0m         style \u001b[38;5;241m=\u001b[39m _rc_params_in_file(style)\n\u001b[0;32m    138\u001b[0m     \u001b[38;5;28;01mexcept\u001b[39;00m \u001b[38;5;167;01mOSError\u001b[39;00m \u001b[38;5;28;01mas\u001b[39;00m err:\n\u001b[1;32m--> 139\u001b[0m         \u001b[38;5;28;01mraise\u001b[39;00m \u001b[38;5;167;01mOSError\u001b[39;00m(\n\u001b[0;32m    140\u001b[0m             \u001b[38;5;124mf\u001b[39m\u001b[38;5;124m\"\u001b[39m\u001b[38;5;132;01m{\u001b[39;00mstyle\u001b[38;5;132;01m!r}\u001b[39;00m\u001b[38;5;124m is not a valid package style, path of style \u001b[39m\u001b[38;5;124m\"\u001b[39m\n\u001b[0;32m    141\u001b[0m             \u001b[38;5;124mf\u001b[39m\u001b[38;5;124m\"\u001b[39m\u001b[38;5;124mfile, URL of style file, or library style name (library \u001b[39m\u001b[38;5;124m\"\u001b[39m\n\u001b[0;32m    142\u001b[0m             \u001b[38;5;124mf\u001b[39m\u001b[38;5;124m\"\u001b[39m\u001b[38;5;124mstyles are listed in `style.available`)\u001b[39m\u001b[38;5;124m\"\u001b[39m) \u001b[38;5;28;01mfrom\u001b[39;00m\u001b[38;5;250m \u001b[39m\u001b[38;5;21;01merr\u001b[39;00m\n\u001b[0;32m    143\u001b[0m filtered \u001b[38;5;241m=\u001b[39m {}\n\u001b[0;32m    144\u001b[0m \u001b[38;5;28;01mfor\u001b[39;00m k \u001b[38;5;129;01min\u001b[39;00m style:  \u001b[38;5;66;03m# don't trigger RcParams.__getitem__('backend')\u001b[39;00m\n",
      "\u001b[1;31mOSError\u001b[0m: 'seaborn' is not a valid package style, path of style file, URL of style file, or library style name (library styles are listed in `style.available`)"
     ]
    }
   ],
   "source": [
    "import os\n",
    "import shutil\n",
    "import cv2\n",
    "import math\n",
    "import random\n",
    "import numpy as np\n",
    "import datetime as dt\n",
    "import tensorflow as tf\n",
    "import keras\n",
    "from collections import deque\n",
    "import matplotlib.pyplot as plt\n",
    "plt.style.use(\"ggplot\")\n",
    "\n",
    "%matplotlib inline\n",
    " \n",
    "from sklearn.model_selection import train_test_split\n",
    " \n",
    "from tensorflow.keras import layers\n",
    "from tensorflow.keras.models import Sequential\n",
    "from tensorflow.keras.utils import to_categorical\n",
    "from tensorflow.keras.callbacks import EarlyStopping\n",
    "\n"
   ]
  },
  {
   "cell_type": "markdown",
   "metadata": {
    "id": "2JxJyU0e3aTn"
   },
   "source": [
    "# **Visualize the Data**"
   ]
  },
  {
   "cell_type": "code",
   "execution_count": null,
   "metadata": {
    "execution": {
     "iopub.execute_input": "2022-09-29T09:03:08.262734Z",
     "iopub.status.busy": "2022-09-29T09:03:08.262277Z",
     "iopub.status.idle": "2022-09-29T09:03:08.269120Z",
     "shell.execute_reply": "2022-09-29T09:03:08.268079Z",
     "shell.execute_reply.started": "2022-09-29T09:03:08.262698Z"
    },
    "id": "Sn7l5xJlmtrf",
    "trusted": true
   },
   "outputs": [],
   "source": [
    "from IPython.display import HTML\n",
    "from base64 import b64encode\n",
    "\n",
    "# To Show a Video in Notebook\n",
    "def Play_Video(filepath):\n",
    "    html = ''\n",
    "    video = open(filepath,'rb').read()\n",
    "    src = 'data:video/mp4;base64,' + b64encode(video).decode()\n",
    "    html += '<video width=640 muted controls autoplay loop><source src=\"%s\" type=\"video/mp4\"></video>' % src \n",
    "    return HTML(html)"
   ]
  },
  {
   "cell_type": "code",
   "execution_count": null,
   "metadata": {
    "_cell_guid": "b1076dfc-b9ad-4769-8c92-a6c4dae69d19",
    "_uuid": "8f2839f25d086af736a60e9eeb907d3b93b6e0e5",
    "execution": {
     "iopub.execute_input": "2022-09-29T09:05:36.366842Z",
     "iopub.status.busy": "2022-09-29T09:05:36.366066Z",
     "iopub.status.idle": "2022-09-29T09:05:36.374538Z",
     "shell.execute_reply": "2022-09-29T09:05:36.373524Z",
     "shell.execute_reply.started": "2022-09-29T09:05:36.366802Z"
    },
    "id": "WzJy3lsU3aTp",
    "trusted": true
   },
   "outputs": [
    {
     "ename": "NameError",
     "evalue": "name 'os' is not defined",
     "output_type": "error",
     "traceback": [
      "\u001b[1;31m---------------------------------------------------------------------------\u001b[0m",
      "\u001b[1;31mNameError\u001b[0m                                 Traceback (most recent call last)",
      "Cell \u001b[1;32mIn[2], line 6\u001b[0m\n\u001b[0;32m      3\u001b[0m ViolnceVideos_Dir \u001b[38;5;241m=\u001b[39m \u001b[38;5;124m\"\u001b[39m\u001b[38;5;124m../input/real-life-violence-situations-dataset/Real Life Violence Dataset/Violence/\u001b[39m\u001b[38;5;124m\"\u001b[39m\n\u001b[0;32m      5\u001b[0m \u001b[38;5;66;03m# Retrieve the list of all the video files present in the Class Directory.\u001b[39;00m\n\u001b[1;32m----> 6\u001b[0m NonViolence_files_names_list \u001b[38;5;241m=\u001b[39m \u001b[43mos\u001b[49m\u001b[38;5;241m.\u001b[39mlistdir(NonViolnceVideos_Dir)\n\u001b[0;32m      7\u001b[0m Violence_files_names_list \u001b[38;5;241m=\u001b[39m os\u001b[38;5;241m.\u001b[39mlistdir(ViolnceVideos_Dir)\n\u001b[0;32m      9\u001b[0m \u001b[38;5;66;03m# Randomly select a video file from the Classes Directory.\u001b[39;00m\n",
      "\u001b[1;31mNameError\u001b[0m: name 'os' is not defined"
     ]
    }
   ],
   "source": [
    "# Classes Directories\n",
    "NonViolnceVideos_Dir = \"../input/real-life-violence-situations-dataset/Real Life Violence Dataset/NonViolence/\"\n",
    "ViolnceVideos_Dir = \"../input/real-life-violence-situations-dataset/Real Life Violence Dataset/Violence/\"\n",
    "\n",
    "# Retrieve the list of all the video files present in the Class Directory.\n",
    "NonViolence_files_names_list = os.listdir(NonViolnceVideos_Dir)\n",
    "Violence_files_names_list = os.listdir(ViolnceVideos_Dir)\n",
    "\n",
    "# Randomly select a video file from the Classes Directory.\n",
    "Random_NonViolence_Video = random.choice(NonViolence_files_names_list)\n",
    "Random_Violence_Video = random.choice(Violence_files_names_list)"
   ]
  },
  {
   "cell_type": "markdown",
   "metadata": {
    "id": "pq5KrFGd-HJ6"
   },
   "source": [
    "**Play Random Non Violence Video**"
   ]
  },
  {
   "cell_type": "code",
   "execution_count": null,
   "metadata": {
    "colab": {
     "base_uri": "https://localhost:8080/",
     "height": 1000
    },
    "execution": {
     "iopub.execute_input": "2022-09-29T09:05:36.877813Z",
     "iopub.status.busy": "2022-09-29T09:05:36.877059Z",
     "iopub.status.idle": "2022-09-29T09:05:36.917433Z",
     "shell.execute_reply": "2022-09-29T09:05:36.916603Z",
     "shell.execute_reply.started": "2022-09-29T09:05:36.877778Z"
    },
    "id": "P2wg6bCP9C3S",
    "outputId": "cec080f1-ffc1-4343-8933-49b8ca755bbb",
    "trusted": true
   },
   "outputs": [],
   "source": [
    "Play_Video(f\"{NonViolnceVideos_Dir}/{Random_NonViolence_Video}\")"
   ]
  },
  {
   "cell_type": "markdown",
   "metadata": {
    "id": "eDllFj2y-LXj"
   },
   "source": [
    "**Play Random Violence Video**"
   ]
  },
  {
   "cell_type": "code",
   "execution_count": null,
   "metadata": {
    "colab": {
     "base_uri": "https://localhost:8080/",
     "height": 1000
    },
    "execution": {
     "iopub.execute_input": "2022-09-29T09:04:06.634922Z",
     "iopub.status.busy": "2022-09-29T09:04:06.634181Z",
     "iopub.status.idle": "2022-09-29T09:04:06.690194Z",
     "shell.execute_reply": "2022-09-29T09:04:06.689062Z",
     "shell.execute_reply.started": "2022-09-29T09:04:06.634882Z"
    },
    "id": "AdbW5DIYnk2D",
    "outputId": "8b2d7e38-ba3d-4e97-9458-89e16ff24c59",
    "trusted": true
   },
   "outputs": [],
   "source": [
    "Play_Video(f\"{ViolnceVideos_Dir}/{Random_Violence_Video}\")"
   ]
  },
  {
   "cell_type": "markdown",
   "metadata": {
    "id": "ySOhHqy83aTq"
   },
   "source": [
    "# **Extracting Frames**"
   ]
  },
  {
   "cell_type": "code",
   "execution_count": null,
   "metadata": {
    "execution": {
     "iopub.execute_input": "2022-09-26T13:04:51.355481Z",
     "iopub.status.busy": "2022-09-26T13:04:51.354039Z",
     "iopub.status.idle": "2022-09-26T13:04:51.361454Z",
     "shell.execute_reply": "2022-09-26T13:04:51.360377Z",
     "shell.execute_reply.started": "2022-09-26T13:04:51.355439Z"
    },
    "id": "1arHoOHI3aTr",
    "trusted": true
   },
   "outputs": [],
   "source": [
    "# Specify the height and width to which each video frame will be resized in our dataset.\n",
    "IMAGE_HEIGHT , IMAGE_WIDTH = 64, 64\n",
    " \n",
    "# Specify the number of frames of a video that will be fed to the model as one sequence.\n",
    "SEQUENCE_LENGTH = 16\n",
    " \n",
    "\n",
    "DATASET_DIR = \"../input/real-life-violence-situations-dataset/Real Life Violence Dataset/\"\n",
    " \n",
    "CLASSES_LIST = [\"NonViolence\",\"Violence\"]"
   ]
  },
  {
   "cell_type": "code",
   "execution_count": null,
   "metadata": {
    "execution": {
     "iopub.execute_input": "2022-09-26T13:04:51.365315Z",
     "iopub.status.busy": "2022-09-26T13:04:51.364801Z",
     "iopub.status.idle": "2022-09-26T13:04:51.375168Z",
     "shell.execute_reply": "2022-09-26T13:04:51.374520Z",
     "shell.execute_reply.started": "2022-09-26T13:04:51.365162Z"
    },
    "id": "-yB8ePeC3aTs",
    "trusted": true
   },
   "outputs": [],
   "source": [
    "def frames_extraction(video_path):\n",
    " \n",
    "    frames_list = []\n",
    "    \n",
    "    # Read the Video File\n",
    "    video_reader = cv2.VideoCapture(video_path)\n",
    " \n",
    "    # Get the total number of frames in the video.\n",
    "    video_frames_count = int(video_reader.get(cv2.CAP_PROP_FRAME_COUNT))\n",
    " \n",
    "    # Calculate the the interval after which frames will be added to the list.\n",
    "    skip_frames_window = max(int(video_frames_count/SEQUENCE_LENGTH), 1)\n",
    " \n",
    "    # Iterate through the Video Frames.\n",
    "    for frame_counter in range(SEQUENCE_LENGTH):\n",
    " \n",
    "        # Set the current frame position of the video.\n",
    "        video_reader.set(cv2.CAP_PROP_POS_FRAMES, frame_counter * skip_frames_window)\n",
    " \n",
    "        # Reading the frame from the video. \n",
    "        success, frame = video_reader.read() \n",
    " \n",
    "        if not success:\n",
    "            break\n",
    " \n",
    "        # Resize the Frame to fixed height and width.\n",
    "        resized_frame = cv2.resize(frame, (IMAGE_HEIGHT, IMAGE_WIDTH))\n",
    "        \n",
    "        # Normalize the resized frame\n",
    "        normalized_frame = resized_frame / 255\n",
    "        \n",
    "        # Append the normalized frame into the frames list\n",
    "        frames_list.append(normalized_frame)\n",
    "    \n",
    " \n",
    "    video_reader.release()\n",
    " \n",
    "    return frames_list"
   ]
  },
  {
   "cell_type": "markdown",
   "metadata": {
    "id": "uqAqiZxD3aTt"
   },
   "source": [
    "# **Creating the Data**"
   ]
  },
  {
   "cell_type": "code",
   "execution_count": null,
   "metadata": {
    "execution": {
     "iopub.execute_input": "2022-09-26T13:04:51.377269Z",
     "iopub.status.busy": "2022-09-26T13:04:51.376583Z",
     "iopub.status.idle": "2022-09-26T13:04:51.390223Z",
     "shell.execute_reply": "2022-09-26T13:04:51.389613Z",
     "shell.execute_reply.started": "2022-09-26T13:04:51.377210Z"
    },
    "id": "vj_AQqju3aTu",
    "trusted": true
   },
   "outputs": [],
   "source": [
    "def create_dataset():\n",
    " \n",
    "    features = []\n",
    "    labels = []\n",
    "    video_files_paths = []\n",
    "    \n",
    "    # Iterating through all the classes.\n",
    "    for class_index, class_name in enumerate(CLASSES_LIST):\n",
    "        \n",
    "        print(f'Extracting Data of Class: {class_name}')\n",
    "        \n",
    "        # Get the list of video files present in the specific class name directory.\n",
    "        files_list = os.listdir(os.path.join(DATASET_DIR, class_name))\n",
    "        \n",
    "        # Iterate through all the files present in the files list.\n",
    "        for file_name in files_list:\n",
    "            \n",
    "            # Get the complete video path.\n",
    "            video_file_path = os.path.join(DATASET_DIR, class_name, file_name)\n",
    " \n",
    "            # Extract the frames of the video file.\n",
    "            frames = frames_extraction(video_file_path)\n",
    " \n",
    "            # Check if the extracted frames are equal to the SEQUENCE_LENGTH specified.\n",
    "            # So ignore the vides having frames less than the SEQUENCE_LENGTH.\n",
    "            if len(frames) == SEQUENCE_LENGTH:\n",
    " \n",
    "                # Append the data to their repective lists.\n",
    "                features.append(frames)\n",
    "                labels.append(class_index)\n",
    "                video_files_paths.append(video_file_path)\n",
    " \n",
    "    features = np.asarray(features)\n",
    "    labels = np.array(labels)  \n",
    "\n",
    "    return features, labels, video_files_paths"
   ]
  },
  {
   "cell_type": "code",
   "execution_count": null,
   "metadata": {
    "execution": {
     "iopub.execute_input": "2022-09-26T13:04:51.392350Z",
     "iopub.status.busy": "2022-09-26T13:04:51.391376Z",
     "iopub.status.idle": "2022-09-26T13:23:37.348393Z",
     "shell.execute_reply": "2022-09-26T13:23:37.347281Z",
     "shell.execute_reply.started": "2022-09-26T13:04:51.392312Z"
    },
    "id": "rgpokUY83aTv",
    "trusted": true
   },
   "outputs": [],
   "source": [
    "# Create the dataset.\n",
    "features, labels, video_files_paths = create_dataset()"
   ]
  },
  {
   "cell_type": "code",
   "execution_count": null,
   "metadata": {
    "execution": {
     "iopub.execute_input": "2022-09-26T13:36:45.230119Z",
     "iopub.status.busy": "2022-09-26T13:36:45.228776Z",
     "iopub.status.idle": "2022-09-26T13:36:49.354116Z",
     "shell.execute_reply": "2022-09-26T13:36:49.352952Z",
     "shell.execute_reply.started": "2022-09-26T13:36:45.230067Z"
    },
    "id": "Hu8NKv4H3aTv",
    "trusted": true
   },
   "outputs": [],
   "source": [
    "# Saving the extracted data\n",
    "np.save(\"features.npy\",features)\n",
    "np.save(\"labels.npy\",labels)\n",
    "np.save(\"video_files_paths.npy\",video_files_paths)"
   ]
  },
  {
   "cell_type": "code",
   "execution_count": null,
   "metadata": {
    "id": "9KOPtXlH3aTw"
   },
   "outputs": [],
   "source": [
    "features, labels, video_files_paths = np.load(\"features.npy\") , np.load(\"labels.npy\") ,  np.load(\"video_files_paths.npy\")"
   ]
  },
  {
   "cell_type": "markdown",
   "metadata": {
    "id": "lkN8bgxH3aTw"
   },
   "source": [
    "# **Encoding and Splitting Training-Testing Sets**"
   ]
  },
  {
   "cell_type": "code",
   "execution_count": null,
   "metadata": {
    "execution": {
     "iopub.execute_input": "2022-09-26T13:23:37.350672Z",
     "iopub.status.busy": "2022-09-26T13:23:37.350275Z",
     "iopub.status.idle": "2022-09-26T13:23:37.356052Z",
     "shell.execute_reply": "2022-09-26T13:23:37.355106Z",
     "shell.execute_reply.started": "2022-09-26T13:23:37.350631Z"
    },
    "id": "SIN6V5GN3aTw",
    "trusted": true
   },
   "outputs": [],
   "source": [
    "# convert labels into one-hot-encoded vectors\n",
    "one_hot_encoded_labels = to_categorical(labels)"
   ]
  },
  {
   "cell_type": "code",
   "execution_count": null,
   "metadata": {
    "execution": {
     "iopub.execute_input": "2022-09-26T13:23:37.358191Z",
     "iopub.status.busy": "2022-09-26T13:23:37.357344Z",
     "iopub.status.idle": "2022-09-26T13:23:37.897713Z",
     "shell.execute_reply": "2022-09-26T13:23:37.896571Z",
     "shell.execute_reply.started": "2022-09-26T13:23:37.358152Z"
    },
    "id": "P0uFnKvq3aTx",
    "trusted": true
   },
   "outputs": [],
   "source": [
    "# Split the Data into Train ( 90% ) and Test Set ( 10% ).\n",
    "features_train, features_test, labels_train, labels_test = train_test_split(features, one_hot_encoded_labels, test_size = 0.1,\n",
    "                                                                            shuffle = True, random_state = 42)"
   ]
  },
  {
   "cell_type": "code",
   "execution_count": null,
   "metadata": {
    "colab": {
     "base_uri": "https://localhost:8080/"
    },
    "execution": {
     "iopub.execute_input": "2022-09-26T13:23:37.899414Z",
     "iopub.status.busy": "2022-09-26T13:23:37.899011Z",
     "iopub.status.idle": "2022-09-26T13:23:37.905495Z",
     "shell.execute_reply": "2022-09-26T13:23:37.904458Z",
     "shell.execute_reply.started": "2022-09-26T13:23:37.899374Z"
    },
    "id": "8X0LeeVW3aTx",
    "outputId": "52c6e405-d4a1-4688-ef79-852689bd59f1",
    "trusted": true
   },
   "outputs": [],
   "source": [
    "print(features_train.shape,labels_train.shape )\n",
    "print(features_test.shape, labels_test.shape)"
   ]
  },
  {
   "cell_type": "markdown",
   "metadata": {
    "id": "bLGa3mfdtu_K"
   },
   "source": [
    "# **Importing MobileNet and Fine-Tuning it.**"
   ]
  },
  {
   "cell_type": "code",
   "execution_count": null,
   "metadata": {
    "colab": {
     "base_uri": "https://localhost:8080/"
    },
    "id": "Tpo2Q-Uf3aT8",
    "outputId": "fccd8ac7-0787-4b33-cf27-7a303ada1c0e",
    "trusted": true
   },
   "outputs": [],
   "source": [
    "from keras.applications.mobilenet_v2 import MobileNetV2\n",
    "\n",
    "mobilenet = MobileNetV2( include_top=False , weights=\"imagenet\")\n",
    "\n",
    "#Fine-Tuning to make the last 40 layer trainable\n",
    "mobilenet.trainable=True\n",
    "\n",
    "for layer in mobilenet.layers[:-40]:\n",
    "  layer.trainable=False\n",
    "\n",
    "#mobilenet.summary()"
   ]
  },
  {
   "cell_type": "markdown",
   "metadata": {
    "id": "PFfDOTnZ3aTy"
   },
   "source": [
    "# **Building The Model**"
   ]
  },
  {
   "cell_type": "code",
   "execution_count": null,
   "metadata": {
    "execution": {
     "iopub.execute_input": "2022-09-26T13:49:33.880894Z",
     "iopub.status.busy": "2022-09-26T13:49:33.880156Z",
     "iopub.status.idle": "2022-09-26T13:49:33.892499Z",
     "shell.execute_reply": "2022-09-26T13:49:33.891070Z",
     "shell.execute_reply.started": "2022-09-26T13:49:33.880855Z"
    },
    "id": "CWtYR7bM3aT9",
    "trusted": true
   },
   "outputs": [],
   "source": [
    "def create_model():\n",
    " \n",
    "    model = Sequential()\n",
    "\n",
    "    ########################################################################################################################\n",
    "    \n",
    "    #Specifying Input to match features shape\n",
    "    model.add(Input(shape = (SEQUENCE_LENGTH, IMAGE_HEIGHT, IMAGE_WIDTH, 3)))\n",
    "    \n",
    "    # Passing mobilenet in the TimeDistributed layer to handle the sequence\n",
    "    model.add(TimeDistributed(mobilenet))\n",
    "    \n",
    "    model.add(Dropout(0.25))\n",
    "                                    \n",
    "    model.add(TimeDistributed(Flatten()))\n",
    "\n",
    "    \n",
    "    lstm_fw = LSTM(units=32)\n",
    "    lstm_bw = LSTM(units=32, go_backwards = True)  \n",
    "\n",
    "    model.add(Bidirectional(lstm_fw, backward_layer = lstm_bw))\n",
    "    \n",
    "    model.add(Dropout(0.25))\n",
    "\n",
    "    model.add(Dense(256,activation='relu'))\n",
    "    model.add(Dropout(0.25))\n",
    "\n",
    "    model.add(Dense(128,activation='relu'))\n",
    "    model.add(Dropout(0.25))\n",
    "\n",
    "    model.add(Dense(64,activation='relu'))\n",
    "    model.add(Dropout(0.25))\n",
    "\n",
    "    model.add(Dense(32,activation='relu'))\n",
    "    model.add(Dropout(0.25))\n",
    "    \n",
    "    \n",
    "    model.add(Dense(len(CLASSES_LIST), activation = 'softmax'))\n",
    " \n",
    "    ########################################################################################################################\n",
    " \n",
    "    model.summary()\n",
    "    \n",
    "    return model"
   ]
  },
  {
   "cell_type": "code",
   "execution_count": null,
   "metadata": {
    "colab": {
     "base_uri": "https://localhost:8080/",
     "height": 1000
    },
    "id": "auo9g9rpmBOS",
    "outputId": "07c69b21-1e15-4481-cff0-fae9f9b1abef"
   },
   "outputs": [],
   "source": [
    "# Constructing the Model\n",
    "MoBiLSTM_model = create_model()\n",
    "\n",
    "# Plot the structure of the contructed LRCN model.\n",
    "plot_model(MoBiLSTM_model, to_file = 'MobBiLSTM_model_structure_plot.png', show_shapes = True, show_layer_names = True)"
   ]
  },
  {
   "cell_type": "markdown",
   "metadata": {
    "id": "c_jvIgP9wEh6"
   },
   "source": [
    "# **Specifying Callbacks and Fitting**"
   ]
  },
  {
   "cell_type": "code",
   "execution_count": null,
   "metadata": {
    "colab": {
     "base_uri": "https://localhost:8080/"
    },
    "execution": {
     "iopub.execute_input": "2022-09-26T13:49:35.873327Z",
     "iopub.status.busy": "2022-09-26T13:49:35.872499Z",
     "iopub.status.idle": "2022-09-26T13:53:27.855222Z",
     "shell.execute_reply": "2022-09-26T13:53:27.854138Z",
     "shell.execute_reply.started": "2022-09-26T13:49:35.873283Z"
    },
    "id": "oA-QWlSV3aT_",
    "outputId": "f1b4723e-1d04-4842-b5c6-29338569f694",
    "scrolled": true,
    "trusted": true
   },
   "outputs": [],
   "source": [
    "# Create Early Stopping Callback to monitor the accuracy\n",
    "early_stopping_callback = EarlyStopping(monitor = 'val_accuracy', patience = 10, restore_best_weights = True)\n",
    "\n",
    "# Create ReduceLROnPlateau Callback to reduce overfitting by decreasing learning\n",
    "reduce_lr = tf.keras.callbacks.ReduceLROnPlateau(monitor='val_loss',\n",
    "                                                  factor=0.6,\n",
    "                                                  patience=5,\n",
    "                                                  min_lr=0.00005,\n",
    "                                                  verbose=1)\n",
    " \n",
    "# Compiling the model \n",
    "MoBiLSTM_model.compile(loss = 'categorical_crossentropy', optimizer = 'sgd', metrics = [\"accuracy\"])\n",
    " \n",
    "# Fitting the model \n",
    "MobBiLSTM_model_history = MoBiLSTM_model.fit(x = features_train, y = labels_train, epochs = 50, batch_size = 8 ,\n",
    "                                             shuffle = True, validation_split = 0.2, callbacks = [early_stopping_callback,reduce_lr])"
   ]
  },
  {
   "cell_type": "code",
   "execution_count": null,
   "metadata": {
    "colab": {
     "base_uri": "https://localhost:8080/"
    },
    "execution": {
     "iopub.execute_input": "2022-09-26T13:53:27.860551Z",
     "iopub.status.busy": "2022-09-26T13:53:27.860237Z",
     "iopub.status.idle": "2022-09-26T13:53:30.444306Z",
     "shell.execute_reply": "2022-09-26T13:53:30.443266Z",
     "shell.execute_reply.started": "2022-09-26T13:53:27.860523Z"
    },
    "id": "6577H1to3aT_",
    "outputId": "dd4650e7-7089-4931-d526-c98440b7210b",
    "trusted": true
   },
   "outputs": [],
   "source": [
    "model_evaluation_history = MoBiLSTM_model.evaluate(features_test, labels_test)"
   ]
  },
  {
   "cell_type": "markdown",
   "metadata": {
    "id": "lPGXI4C53aUA"
   },
   "source": [
    "# **Model Evaluation**"
   ]
  },
  {
   "cell_type": "code",
   "execution_count": null,
   "metadata": {
    "execution": {
     "iopub.execute_input": "2022-09-26T13:44:36.644585Z",
     "iopub.status.busy": "2022-09-26T13:44:36.641740Z",
     "iopub.status.idle": "2022-09-26T13:44:36.653571Z",
     "shell.execute_reply": "2022-09-26T13:44:36.652619Z",
     "shell.execute_reply.started": "2022-09-26T13:44:36.644530Z"
    },
    "id": "hyHkkNo93aUB",
    "trusted": true
   },
   "outputs": [],
   "source": [
    "def plot_metric(model_training_history, metric_name_1, metric_name_2, plot_name):\n",
    "    \n",
    "    metric_value_1 = model_training_history.history[metric_name_1]\n",
    "    metric_value_2 = model_training_history.history[metric_name_2]\n",
    "    \n",
    "    # Get the Epochs Count\n",
    "    epochs = range(len(metric_value_1))\n",
    " \n",
    "    plt.plot(epochs, metric_value_1, 'blue', label = metric_name_1)\n",
    "    plt.plot(epochs, metric_value_2, 'orange', label = metric_name_2)\n",
    " \n",
    "    plt.title(str(plot_name))\n",
    " \n",
    "    plt.legend()"
   ]
  },
  {
   "cell_type": "code",
   "execution_count": null,
   "metadata": {
    "colab": {
     "base_uri": "https://localhost:8080/",
     "height": 280
    },
    "execution": {
     "iopub.execute_input": "2022-09-26T13:44:36.832663Z",
     "iopub.status.busy": "2022-09-26T13:44:36.831985Z",
     "iopub.status.idle": "2022-09-26T13:44:37.125012Z",
     "shell.execute_reply": "2022-09-26T13:44:37.123837Z",
     "shell.execute_reply.started": "2022-09-26T13:44:36.832619Z"
    },
    "id": "-YIHQIr13aUB",
    "outputId": "a038e7f7-56be-4c92-9ea3-0dd25de1a247",
    "trusted": true
   },
   "outputs": [],
   "source": [
    "plot_metric(MobBiLSTM_model_history, 'loss', 'val_loss', 'Total Loss vs Total Validation Loss')"
   ]
  },
  {
   "cell_type": "code",
   "execution_count": null,
   "metadata": {
    "colab": {
     "base_uri": "https://localhost:8080/",
     "height": 280
    },
    "execution": {
     "iopub.execute_input": "2022-09-26T13:44:40.384202Z",
     "iopub.status.busy": "2022-09-26T13:44:40.383161Z",
     "iopub.status.idle": "2022-09-26T13:44:40.614112Z",
     "shell.execute_reply": "2022-09-26T13:44:40.613135Z",
     "shell.execute_reply.started": "2022-09-26T13:44:40.384163Z"
    },
    "id": "JUeYKvq23aUB",
    "outputId": "b19327aa-bc13-45ad-d7db-5fccedd0f2aa",
    "trusted": true
   },
   "outputs": [],
   "source": [
    "plot_metric(MobBiLSTM_model_history, 'accuracy', 'val_accuracy', 'Total Loss vs Total Validation Loss')"
   ]
  },
  {
   "cell_type": "markdown",
   "metadata": {
    "id": "f8rpSPRGxzLM"
   },
   "source": [
    "# **Predicting the Test Set**"
   ]
  },
  {
   "cell_type": "code",
   "execution_count": null,
   "metadata": {
    "execution": {
     "iopub.execute_input": "2022-09-26T12:40:03.662058Z",
     "iopub.status.busy": "2022-09-26T12:40:03.661707Z",
     "iopub.status.idle": "2022-09-26T12:40:06.333361Z",
     "shell.execute_reply": "2022-09-26T12:40:06.332271Z",
     "shell.execute_reply.started": "2022-09-26T12:40:03.662020Z"
    },
    "id": "BCuJOPWn3aUC",
    "trusted": true
   },
   "outputs": [],
   "source": [
    "labels_predict = MoBiLSTM_model.predict(features_test)"
   ]
  },
  {
   "cell_type": "code",
   "execution_count": null,
   "metadata": {
    "execution": {
     "iopub.execute_input": "2022-09-26T12:40:06.335598Z",
     "iopub.status.busy": "2022-09-26T12:40:06.335178Z",
     "iopub.status.idle": "2022-09-26T12:40:06.345143Z",
     "shell.execute_reply": "2022-09-26T12:40:06.343820Z",
     "shell.execute_reply.started": "2022-09-26T12:40:06.335560Z"
    },
    "id": "6PtV_By23aUC",
    "trusted": true
   },
   "outputs": [],
   "source": [
    "# Decoding the data to use in Metrics\n",
    "labels_predict = np.argmax(labels_predict , axis=1)\n",
    "labels_test_normal = np.argmax(labels_test , axis=1)"
   ]
  },
  {
   "cell_type": "code",
   "execution_count": null,
   "metadata": {
    "colab": {
     "base_uri": "https://localhost:8080/"
    },
    "execution": {
     "iopub.execute_input": "2022-09-26T12:40:06.347463Z",
     "iopub.status.busy": "2022-09-26T12:40:06.346791Z",
     "iopub.status.idle": "2022-09-26T12:40:06.359231Z",
     "shell.execute_reply": "2022-09-26T12:40:06.358255Z",
     "shell.execute_reply.started": "2022-09-26T12:40:06.347423Z"
    },
    "id": "HP-sdFAj3aUC",
    "outputId": "96fbaf31-208f-4271-e83d-36b2b5cb07cc",
    "trusted": true
   },
   "outputs": [],
   "source": [
    "labels_test_normal.shape , labels_predict.shape"
   ]
  },
  {
   "cell_type": "markdown",
   "metadata": {
    "id": "JR45ydemygm6"
   },
   "source": [
    "Accuracy Score"
   ]
  },
  {
   "cell_type": "code",
   "execution_count": null,
   "metadata": {
    "colab": {
     "base_uri": "https://localhost:8080/"
    },
    "execution": {
     "iopub.execute_input": "2022-09-26T12:40:06.361559Z",
     "iopub.status.busy": "2022-09-26T12:40:06.361106Z",
     "iopub.status.idle": "2022-09-26T12:40:06.370894Z",
     "shell.execute_reply": "2022-09-26T12:40:06.369877Z",
     "shell.execute_reply.started": "2022-09-26T12:40:06.361522Z"
    },
    "id": "99mVAuNu3aUC",
    "outputId": "fc39c654-e5bb-4977-c840-fa4695dde3c5",
    "trusted": true
   },
   "outputs": [],
   "source": [
    "from sklearn.metrics import accuracy_score\n",
    "AccScore = accuracy_score(labels_predict, labels_test_normal)\n",
    "print('Accuracy Score is : ', AccScore)"
   ]
  },
  {
   "cell_type": "markdown",
   "metadata": {
    "id": "FMtS_I_MyiY5"
   },
   "source": [
    "Confusion Matrix"
   ]
  },
  {
   "cell_type": "code",
   "execution_count": null,
   "metadata": {
    "colab": {
     "base_uri": "https://localhost:8080/",
     "height": 294
    },
    "execution": {
     "iopub.execute_input": "2022-09-26T12:40:06.372870Z",
     "iopub.status.busy": "2022-09-26T12:40:06.372274Z",
     "iopub.status.idle": "2022-09-26T12:40:06.719103Z",
     "shell.execute_reply": "2022-09-26T12:40:06.718113Z",
     "shell.execute_reply.started": "2022-09-26T12:40:06.372835Z"
    },
    "id": "xzg5AVTC3aUD",
    "outputId": "d469d340-b976-4858-9740-b0ae9e3b9883",
    "trusted": true
   },
   "outputs": [],
   "source": [
    "import seaborn as sns \n",
    "from sklearn.metrics import confusion_matrix\n",
    "\n",
    "ax= plt.subplot()\n",
    "cm=confusion_matrix(labels_test_normal, labels_predict)\n",
    "sns.heatmap(cm, annot=True, fmt='g', ax=ax);  \n",
    "\n",
    "ax.set_xlabel('Predicted labels');ax.set_ylabel('True labels'); \n",
    "ax.set_title('Confusion Matrix'); \n",
    "ax.xaxis.set_ticklabels(['True', 'False']); ax.yaxis.set_ticklabels(['NonViolence', 'Violence']);"
   ]
  },
  {
   "cell_type": "markdown",
   "metadata": {
    "id": "zX8EOmSTypNq"
   },
   "source": [
    "Classification Report"
   ]
  },
  {
   "cell_type": "code",
   "execution_count": null,
   "metadata": {
    "colab": {
     "base_uri": "https://localhost:8080/"
    },
    "execution": {
     "iopub.execute_input": "2022-09-26T12:40:06.722204Z",
     "iopub.status.busy": "2022-09-26T12:40:06.721573Z",
     "iopub.status.idle": "2022-09-26T12:40:06.733618Z",
     "shell.execute_reply": "2022-09-26T12:40:06.732470Z",
     "shell.execute_reply.started": "2022-09-26T12:40:06.722163Z"
    },
    "id": "pcWhopTm3aUD",
    "outputId": "aef35268-bd38-4755-9096-9e5dcfb6244b",
    "trusted": true
   },
   "outputs": [],
   "source": [
    "from sklearn.metrics import classification_report\n",
    "\n",
    "ClassificationReport = classification_report(labels_test_normal,labels_predict)\n",
    "print('Classification Report is : \\n', ClassificationReport)"
   ]
  },
  {
   "cell_type": "markdown",
   "metadata": {
    "id": "p9kjBjoN3aUD"
   },
   "source": [
    "# **Prediction Frame By Frame**"
   ]
  },
  {
   "cell_type": "code",
   "execution_count": null,
   "metadata": {
    "execution": {
     "iopub.execute_input": "2022-09-26T12:40:06.735896Z",
     "iopub.status.busy": "2022-09-26T12:40:06.735454Z",
     "iopub.status.idle": "2022-09-26T12:40:06.747662Z",
     "shell.execute_reply": "2022-09-26T12:40:06.746541Z",
     "shell.execute_reply.started": "2022-09-26T12:40:06.735860Z"
    },
    "id": "90aMcgLB3aUD",
    "trusted": true
   },
   "outputs": [],
   "source": [
    "def predict_frames(video_file_path, output_file_path, SEQUENCE_LENGTH):\n",
    "    \n",
    "    # Read from the video file.\n",
    "    video_reader = cv2.VideoCapture(video_file_path)\n",
    " \n",
    "    # Get the width and height of the video.\n",
    "    original_video_width = int(video_reader.get(cv2.CAP_PROP_FRAME_WIDTH))\n",
    "    original_video_height = int(video_reader.get(cv2.CAP_PROP_FRAME_HEIGHT))\n",
    " \n",
    "    # VideoWriter to store the output video in the disk.\n",
    "    video_writer = cv2.VideoWriter(output_file_path, cv2.VideoWriter_fourcc('m', 'p', '4', 'v'), \n",
    "                                    video_reader.get(cv2.CAP_PROP_FPS), (original_video_width, original_video_height))\n",
    " \n",
    "    # Declare a queue to store video frames.\n",
    "    frames_queue = deque(maxlen = SEQUENCE_LENGTH)\n",
    " \n",
    "    # Store the predicted class in the video.\n",
    "    predicted_class_name = ''\n",
    " \n",
    "    # Iterate until the video is accessed successfully.\n",
    "    while video_reader.isOpened():\n",
    " \n",
    "        ok, frame = video_reader.read() \n",
    "        \n",
    "        if not ok:\n",
    "            break\n",
    " \n",
    "        # Resize the Frame to fixed Dimensions.\n",
    "        resized_frame = cv2.resize(frame, (IMAGE_HEIGHT, IMAGE_WIDTH))\n",
    "        \n",
    "        # Normalize the resized frame \n",
    "        normalized_frame = resized_frame / 255\n",
    " \n",
    "        # Appending the pre-processed frame into the frames list.\n",
    "        frames_queue.append(normalized_frame)\n",
    " \n",
    "        # We Need at Least number of SEQUENCE_LENGTH Frames to perform a prediction.\n",
    "        # Check if the number of frames in the queue are equal to the fixed sequence length.\n",
    "        if len(frames_queue) == SEQUENCE_LENGTH:                        \n",
    " \n",
    "            # Pass the normalized frames to the model and get the predicted probabilities.\n",
    "            predicted_labels_probabilities = MoBiLSTM_model.predict(np.expand_dims(frames_queue, axis = 0))[0]\n",
    " \n",
    "            # Get the index of class with highest probability.\n",
    "            predicted_label = np.argmax(predicted_labels_probabilities)\n",
    " \n",
    "            # Get the class name using the retrieved index.\n",
    "            predicted_class_name = CLASSES_LIST[predicted_label]\n",
    " \n",
    "        # Write predicted class name on top of the frame.\n",
    "        if predicted_class_name == \"Violence\":\n",
    "            cv2.putText(frame, predicted_class_name, (5, 100), cv2.FONT_HERSHEY_SIMPLEX, 3, (0, 0, 255), 12)\n",
    "        else:\n",
    "            cv2.putText(frame, predicted_class_name, (5, 100), cv2.FONT_HERSHEY_SIMPLEX, 3, (0, 255, 0), 12)\n",
    "         \n",
    "        # Write The frame into the disk using the VideoWriter\n",
    "        video_writer.write(frame)                       \n",
    "        \n",
    "    video_reader.release()\n",
    "    video_writer.release()"
   ]
  },
  {
   "cell_type": "code",
   "execution_count": null,
   "metadata": {
    "execution": {
     "iopub.execute_input": "2022-09-26T12:40:06.749705Z",
     "iopub.status.busy": "2022-09-26T12:40:06.749357Z",
     "iopub.status.idle": "2022-09-26T12:40:06.762699Z",
     "shell.execute_reply": "2022-09-26T12:40:06.761709Z",
     "shell.execute_reply.started": "2022-09-26T12:40:06.749669Z"
    },
    "id": "RMzc9v5T3aUD",
    "trusted": true
   },
   "outputs": [],
   "source": [
    "plt.style.use(\"default\")\n",
    "\n",
    "# To show Random Frames from the saved output predicted video (output predicted video doesn't show on the notebook but can be downloaded)\n",
    "def show_pred_frames(pred_video_path): \n",
    "\n",
    "    plt.figure(figsize=(20,15))\n",
    "\n",
    "    video_reader = cv2.VideoCapture(pred_video_path)\n",
    "\n",
    "    # Get the number of frames in the video.\n",
    "    frames_count = int(video_reader.get(cv2.CAP_PROP_FRAME_COUNT))\n",
    "    \n",
    "    # Get Random Frames from the video then Sort it\n",
    "    random_range = sorted(random.sample(range (SEQUENCE_LENGTH , frames_count ), 12))\n",
    "        \n",
    "    for counter, random_index in enumerate(random_range, 1):\n",
    "        \n",
    "        plt.subplot(5, 4, counter)\n",
    "\n",
    "        # Set the current frame position of the video.  \n",
    "        video_reader.set(cv2.CAP_PROP_POS_FRAMES, random_index)\n",
    "          \n",
    "        ok, frame = video_reader.read() \n",
    "\n",
    "        if not ok:\n",
    "          break \n",
    "\n",
    "        frame = cv2.cvtColor(frame , cv2.COLOR_BGR2RGB)\n",
    "\n",
    "        plt.imshow(frame);ax.figure.set_size_inches(20,20);plt.tight_layout()\n",
    "                            \n",
    "    video_reader.release()"
   ]
  },
  {
   "cell_type": "code",
   "execution_count": null,
   "metadata": {
    "id": "TLoHFIZG1nfx"
   },
   "outputs": [],
   "source": [
    "# Construct the output video path.\n",
    "test_videos_directory = 'test_videos'\n",
    "os.makedirs(test_videos_directory, exist_ok = True)\n",
    " \n",
    "output_video_file_path = f'{test_videos_directory}/Output-Test-Video.mp4'"
   ]
  },
  {
   "cell_type": "code",
   "execution_count": null,
   "metadata": {
    "colab": {
     "base_uri": "https://localhost:8080/",
     "height": 588
    },
    "execution": {
     "iopub.execute_input": "2022-09-26T12:51:41.136308Z",
     "iopub.status.busy": "2022-09-26T12:51:41.135833Z",
     "iopub.status.idle": "2022-09-26T12:56:53.721626Z",
     "shell.execute_reply": "2022-09-26T12:56:53.719139Z",
     "shell.execute_reply.started": "2022-09-26T12:51:41.136269Z"
    },
    "id": "zXBFNGU83aUE",
    "outputId": "53ee1964-9144-4a75-994b-df86e3b71018",
    "trusted": true
   },
   "outputs": [],
   "source": [
    "# Specifying video to be predicted\n",
    "input_video_file_path = \"../input/real-life-violence-situations-dataset/Real Life Violence Dataset/Violence/V_378.mp4\"\n",
    "\n",
    "# Perform Prediction on the Test Video.\n",
    "predict_frames(input_video_file_path, output_video_file_path, SEQUENCE_LENGTH)\n",
    "\n",
    "# Show random frames from the output video\n",
    "show_pred_frames(output_video_file_path)"
   ]
  },
  {
   "cell_type": "code",
   "execution_count": null,
   "metadata": {
    "colab": {
     "base_uri": "https://localhost:8080/",
     "height": 373
    },
    "execution": {
     "iopub.execute_input": "2022-09-26T13:00:55.804399Z",
     "iopub.status.busy": "2022-09-26T13:00:55.803946Z",
     "iopub.status.idle": "2022-09-26T13:00:55.917889Z",
     "shell.execute_reply": "2022-09-26T13:00:55.916413Z",
     "shell.execute_reply.started": "2022-09-26T13:00:55.804363Z"
    },
    "id": "lYbKAUan3aUE",
    "outputId": "6dd94528-4e86-4ec7-e5db-f8b27cde68ef",
    "trusted": true
   },
   "outputs": [],
   "source": [
    "# Play the actual video\n",
    "Play_Video(input_video_file_path)"
   ]
  },
  {
   "cell_type": "code",
   "execution_count": null,
   "metadata": {
    "colab": {
     "base_uri": "https://localhost:8080/",
     "height": 589
    },
    "id": "aNOREFYZevVa",
    "outputId": "24e5d5d6-30db-44e8-f95d-4c00596fdf62"
   },
   "outputs": [],
   "source": [
    "# Specifying video to be predicted\n",
    "input_video_file_path = \"../input/real-life-violence-situations-dataset/Real Life Violence Dataset/NonViolence/NV_1.mp4\"\n",
    "\n",
    "# Perform Prediction on the Test Video.\n",
    "predict_frames(input_video_file_path, output_video_file_path, SEQUENCE_LENGTH)\n",
    "\n",
    "# Show random frames from the output video\n",
    "show_pred_frames(output_video_file_path)"
   ]
  },
  {
   "cell_type": "code",
   "execution_count": null,
   "metadata": {
    "colab": {
     "base_uri": "https://localhost:8080/",
     "height": 381
    },
    "execution": {
     "iopub.execute_input": "2022-09-29T09:06:13.084823Z",
     "iopub.status.busy": "2022-09-29T09:06:13.084402Z",
     "iopub.status.idle": "2022-09-29T09:06:13.326856Z",
     "shell.execute_reply": "2022-09-29T09:06:13.323179Z",
     "shell.execute_reply.started": "2022-09-29T09:06:13.084791Z"
    },
    "id": "WqM0I5jueyKx",
    "outputId": "f9bf5016-a3d9-4c49-baeb-c27033dd45df",
    "trusted": true
   },
   "outputs": [],
   "source": [
    "# Play the actual video\n",
    "Play_Video(input_video_file_path)"
   ]
  },
  {
   "cell_type": "markdown",
   "metadata": {
    "id": "Q4-IYON63aUE"
   },
   "source": [
    "# **Prediction For The Video**"
   ]
  },
  {
   "cell_type": "code",
   "execution_count": null,
   "metadata": {
    "execution": {
     "iopub.execute_input": "2022-09-26T13:48:33.863852Z",
     "iopub.status.busy": "2022-09-26T13:48:33.863461Z",
     "iopub.status.idle": "2022-09-26T13:48:33.876001Z",
     "shell.execute_reply": "2022-09-26T13:48:33.874856Z",
     "shell.execute_reply.started": "2022-09-26T13:48:33.863821Z"
    },
    "id": "p4gjtz-73aUE",
    "trusted": true
   },
   "outputs": [],
   "source": [
    "def predict_video(video_file_path, SEQUENCE_LENGTH):\n",
    " \n",
    "    video_reader = cv2.VideoCapture(video_file_path)\n",
    " \n",
    "    # Get the width and height of the video.\n",
    "    original_video_width = int(video_reader.get(cv2.CAP_PROP_FRAME_WIDTH))\n",
    "    original_video_height = int(video_reader.get(cv2.CAP_PROP_FRAME_HEIGHT))\n",
    " \n",
    "    # Declare a list to store video frames we will extract.\n",
    "    frames_list = []\n",
    "    \n",
    "    # Store the predicted class in the video.\n",
    "    predicted_class_name = ''\n",
    " \n",
    "    # Get the number of frames in the video.\n",
    "    video_frames_count = int(video_reader.get(cv2.CAP_PROP_FRAME_COUNT))\n",
    " \n",
    "    # Calculate the interval after which frames will be added to the list.\n",
    "    skip_frames_window = max(int(video_frames_count/SEQUENCE_LENGTH),1)\n",
    " \n",
    "    # Iterating the number of times equal to the fixed length of sequence.\n",
    "    for frame_counter in range(SEQUENCE_LENGTH):\n",
    " \n",
    "        # Set the current frame position of the video.\n",
    "        video_reader.set(cv2.CAP_PROP_POS_FRAMES, frame_counter * skip_frames_window)\n",
    " \n",
    "        success, frame = video_reader.read() \n",
    " \n",
    "        if not success:\n",
    "            break\n",
    " \n",
    "        # Resize the Frame to fixed Dimensions.\n",
    "        resized_frame = cv2.resize(frame, (IMAGE_HEIGHT, IMAGE_WIDTH))\n",
    "        \n",
    "        # Normalize the resized frame.\n",
    "        normalized_frame = resized_frame / 255\n",
    "        \n",
    "        # Appending the pre-processed frame into the frames list\n",
    "        frames_list.append(normalized_frame)\n",
    " \n",
    "    # Passing the  pre-processed frames to the model and get the predicted probabilities.\n",
    "    predicted_labels_probabilities = MoBiLSTM_model.predict(np.expand_dims(frames_list, axis = 0))[0]\n",
    " \n",
    "    # Get the index of class with highest probability.\n",
    "    predicted_label = np.argmax(predicted_labels_probabilities)\n",
    " \n",
    "    # Get the class name using the retrieved index.\n",
    "    predicted_class_name = CLASSES_LIST[predicted_label]\n",
    "    \n",
    "    # Display the predicted class along with the prediction confidence.\n",
    "    print(f'Predicted: {predicted_class_name}\\nConfidence: {predicted_labels_probabilities[predicted_label]}')\n",
    "        \n",
    "    video_reader.release()"
   ]
  },
  {
   "cell_type": "code",
   "execution_count": null,
   "metadata": {
    "colab": {
     "base_uri": "https://localhost:8080/",
     "height": 416
    },
    "execution": {
     "iopub.execute_input": "2022-09-26T13:48:33.887493Z",
     "iopub.status.busy": "2022-09-26T13:48:33.887126Z",
     "iopub.status.idle": "2022-09-26T13:48:35.834043Z",
     "shell.execute_reply": "2022-09-26T13:48:35.831821Z",
     "shell.execute_reply.started": "2022-09-26T13:48:33.887464Z"
    },
    "id": "O6DQ5V-b3aUF",
    "outputId": "2509c4e5-de79-4431-d18f-7caf178b4d01",
    "trusted": true
   },
   "outputs": [],
   "source": [
    "# Specifying video to be predicted\n",
    "input_video_file_path = \"../input/real-life-violence-situations-dataset/Real Life Violence Dataset/Violence/V_276.mp4\"\n",
    "\n",
    "# Perform Single Prediction on the Test Video.\n",
    "predict_video(input_video_file_path, SEQUENCE_LENGTH)\n",
    "\n",
    "# Play the actual video\n",
    "Play_Video(input_video_file_path)"
   ]
  },
  {
   "cell_type": "code",
   "execution_count": null,
   "metadata": {
    "colab": {
     "base_uri": "https://localhost:8080/",
     "height": 416
    },
    "id": "nxwWGvUg3aUF",
    "outputId": "576775a3-d10a-4782-85d7-d809d6a845f7"
   },
   "outputs": [],
   "source": [
    "# Specifying video to be predicted\n",
    "input_video_file_path = \"../input/real-life-violence-situations-dataset/Real Life Violence Dataset/NonViolence/NV_23.mp4\"\n",
    "\n",
    "# Perform Single Prediction on the Test Video.\n",
    "predict_video(input_video_file_path, SEQUENCE_LENGTH)\n",
    "\n",
    "# Play the actual video\n",
    "Play_Video(input_video_file_path)\n",
    "\n",
    "\n"
   ]
  },
  {
   "cell_type": "markdown",
   "metadata": {},
   "source": [
    "**Github Repository :** [Real Time Violence Detection](https://github.com/abduulrahmankhalid/Real-Time-Violence-Detection)"
   ]
  },
  {
   "cell_type": "code",
   "execution_count": null,
   "metadata": {},
   "outputs": [],
   "source": [
    "model.save(\"C:/projects/CAPSTONEFINALFINALACTUALLYFINAL/rehellopleasehelp/mew.keras\")\n",
    "print(\"Model saved successfully!\")\n"
   ]
  }
 ],
 "metadata": {
  "accelerator": "GPU",
  "colab": {
   "collapsed_sections": [],
   "provenance": []
  },
  "kernelspec": {
   "display_name": "myenv",
   "language": "python",
   "name": "python3"
  },
  "language_info": {
   "codemirror_mode": {
    "name": "ipython",
    "version": 3
   },
   "file_extension": ".py",
   "mimetype": "text/x-python",
   "name": "python",
   "nbconvert_exporter": "python",
   "pygments_lexer": "ipython3",
   "version": "3.9.21"
  }
 },
 "nbformat": 4,
 "nbformat_minor": 4
}
